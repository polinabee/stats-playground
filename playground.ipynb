{
 "cells": [
  {
   "cell_type": "code",
   "execution_count": 1,
   "metadata": {},
   "outputs": [],
   "source": [
    "from sklearn import datasets, linear_model\n",
    "from sklearn.model_selection import cross_validate\n",
    "from sklearn.metrics import make_scorer\n",
    "from sklearn.metrics import confusion_matrix\n",
    "from sklearn.svm import LinearSVC\n",
    "\n",
    "diabetes = datasets.load_diabetes()\n",
    "X = diabetes.data[:150]\n",
    "y = diabetes.target[:150]\n",
    "lasso = linear_model.Lasso()\n"
   ]
  },
  {
   "cell_type": "code",
   "execution_count": null,
   "outputs": [],
   "source": [
    "# Single metric evaluation using cross_validate\n",
    "\n",
    "cv_results = cross_validate(lasso, X, y, cv=3)\n",
    "sorted(cv_results.keys())\n",
    "cv_results['test_score']\n"
   ],
   "metadata": {
    "collapsed": false,
    "pycharm": {
     "name": "#%%\n"
    }
   }
  },
  {
   "cell_type": "code",
   "execution_count": null,
   "outputs": [],
   "source": [
    "scores = cross_validate(lasso, X, y, cv=3,\n",
    "                         scoring=('r2', 'neg_mean_squared_error'),\n",
    "                        return_train_score=True)\n",
    "\n",
    "print(scores['test_neg_mean_squared_error'])\n",
    "print(scores['train_r2'])\n"
   ],
   "metadata": {
    "collapsed": false,
    "pycharm": {
     "name": "#%%\n"
    }
   }
  },
  {
   "cell_type": "code",
   "execution_count": 2,
   "metadata": {},
   "outputs": [
    {
     "data": {
      "text/plain": [
       "array([0.33150734, 0.08022311, 0.03531764])"
      ]
     },
     "execution_count": 2,
     "metadata": {},
     "output_type": "execute_result"
    }
   ],
   "source": [
    "scores = cross_validate(lasso, X, y, cv=3,\n",
    "                         scoring=('r2', 'neg_mean_squared_error'),\n",
    "                        return_train_score=True)\n",
    "\n",
    "print(scores['test_neg_mean_squared_error'])\n",
    "print(scores['train_r2'])\n"
   ]
  },
  {
   "cell_type": "code",
   "execution_count": 3,
   "metadata": {},
   "outputs": [
    {
     "name": "stdout",
     "output_type": "stream",
     "text": [
      "[-3635.51152303 -3573.34242148 -6114.78229547]\n",
      "[0.28010158 0.39088426 0.22784852]\n"
     ]
    }
   ],
   "source": [
    "scores = cross_validate(lasso, X, y, cv=3,\n",
    "                         scoring=('r2', 'neg_mean_squared_error'),\n",
    "                        return_train_score=True)\n",
    "\n",
    "print(scores['test_neg_mean_squared_error'])\n",
    "print(scores['train_r2'])\n"
   ]
  }
 ],
 "metadata": {
  "kernelspec": {
   "display_name": "Python 3",
   "language": "python",
   "name": "python3"
  },
  "language_info": {
   "codemirror_mode": {
    "name": "ipython",
    "version": 3
   },
   "file_extension": ".py",
   "mimetype": "text/x-python",
   "name": "python",
   "nbconvert_exporter": "python",
   "pygments_lexer": "ipython3",
   "version": "3.8.5"
  }
 },
 "nbformat": 4,
 "nbformat_minor": 1
}